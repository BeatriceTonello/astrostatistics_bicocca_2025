{
 "cells": [
  {
   "cell_type": "markdown",
   "id": "6651d5ea-7933-42a7-a704-27b83ebec42a",
   "metadata": {},
   "source": [
    "# Monty Hall problem"
   ]
  },
  {
   "cell_type": "code",
   "execution_count": 98,
   "id": "9b7f30b7-4fab-42e3-beb1-b521106427db",
   "metadata": {},
   "outputs": [],
   "source": [
    "import numpy as np\n",
    "from matplotlib import pyplot as plt\n",
    "from scipy import stats\n",
    "import random"
   ]
  },
  {
   "cell_type": "code",
   "execution_count": 99,
   "id": "f152efbf-2b5b-48e1-a8a2-a310f3cc37f7",
   "metadata": {},
   "outputs": [],
   "source": [
    "N=10000 #N games\n",
    "\n",
    "#for every game, the disposition of two goats(0) and one car(1) behind doors is changed\n",
    "doors=np.zeros((N,3))\n",
    "for i in range (0,N):\n",
    "    doors[i,0]=1\n",
    "    random.shuffle(doors[i])\n",
    "\n",
    "#variables that will simulate door choices or door opening\n",
    "x=np.zeros(N)\n",
    "y=np.zeros(N)\n",
    "z=np.zeros(N)\n",
    "\n",
    "for i in range (0,N):\n",
    "    x[i] = random.random() #0 < x < 1: which door is chosen by the first player (conservative)\n",
    "    y[i] = random.random() #0 < y < 1: which door is opened by the host (only if conservative picked car)\n",
    "    z[i] = random.random() #0 < z < 1: which door is chosen by the newcomer\n",
    "\n",
    "#record the results\n",
    "conservative=np.zeros(N)\n",
    "switcher=np.zeros(N)\n",
    "newcomer=np.zeros(N)"
   ]
  },
  {
   "cell_type": "code",
   "execution_count": 100,
   "id": "a5220c90-f1bd-4780-8930-526e4b84d438",
   "metadata": {},
   "outputs": [
    {
     "name": "stdout",
     "output_type": "stream",
     "text": [
      "[0. 0. 1. ... 1. 1. 1.]\n",
      "[1. 1. 0. ... 0. 0. 0.]\n",
      "[0. 1. 0. ... 1. 0. 0.]\n"
     ]
    }
   ],
   "source": [
    "for i in range (0,N): \n",
    "    if (x[i]<=1/3): #chooses the 1st door\n",
    "        conservative[i] = doors[i][0] #conservative keeps the door\n",
    "\n",
    "        if(doors[i][0]==1): #if the car is behind the 1st door, the host opens randomly one of the other two\n",
    "\n",
    "            if (y[i]<=1/2): #host opens 2nd door\n",
    "                switcher[i] = doors[i][2] #switcher picks 3rd door\n",
    "\n",
    "                if (z[i]<1/2): #newcomer picks 1st door\n",
    "                    newcomer[i] = doors[i][0]\n",
    "                if (1/2<z[i]<1): #newcomer picks 3rd door\n",
    "                    newcomer[i] = doors[i][2]\n",
    "\n",
    "            if (1/2<y[i]<=1): #host opens 3rd door\n",
    "                switcher[i] = doors[i][1] #switcher picks 2nd door\n",
    "        \n",
    "                if (z[i]<=1/2): #newcomer picks 1st door\n",
    "                    newcomer[i] = doors[i][0]\n",
    "                if (1/2<z[i]<=1): #newcomer picks 2nd door\n",
    "                    newcomer[i] = doors[i][1]     \n",
    "\n",
    "        if(doors[i][0]==0): #the car is not behind the first door, so the host opens the remaining door with the goat\n",
    "\n",
    "            if(doors[i][1]==0): #the goat is behind the second door, so the host opens the 2nd door\n",
    "                switcher[i] = doors[i][2] #switcher picks 3rd door\n",
    "\n",
    "                if (z[i]<1/2): #newcomer picks 1st door\n",
    "                    newcomer[i] = doors[i][0]\n",
    "                if (1/2<z[i]<1): #newcomer picks 3rd door\n",
    "                    newcomer[i] = doors[i][2] \n",
    "\n",
    "            if(doors[i][1]==1): #the car is behind the second door, so the host opens the 3rd door\n",
    "                switcher[i] = doors[i][1] #switcher picks 2nd door\n",
    "\n",
    "                if (z[i]<1/2): #newcomer picks 1st door\n",
    "                    newcomer[i] = doors[i][0]\n",
    "                if (1/2<z[i]<1): #newcomer picks 2nd door\n",
    "                    newcomer[i] = doors[i][1] \n",
    "    \n",
    "    if (1/3<x[i]<=2/3): #chooses the 2nd door\n",
    "        conservative[i] = doors[i][1] #conservative keeps the door\n",
    "\n",
    "        if(doors[i][1]==1): #if the car is behind the 2nd door, the host opens randomly one of the other two\n",
    "\n",
    "            if (y[i]<1/2): #host opens 1st door\n",
    "                switcher[i] = doors[i][2] #switcher picks 3rd door\n",
    "\n",
    "                if (z[i]<1/2): #newcomer picks 2nd door\n",
    "                    newcomer[i] = doors[i][1]\n",
    "                if (1/2<z[i]<1): #newcomer picks 3rd door\n",
    "                    newcomer[i] = doors[i][2]\n",
    "\n",
    "            if (1/2<y[i]<1): #host opens 3rd door\n",
    "                switcher[i] = doors[i][0] #switcher picks 1st door\n",
    "        \n",
    "                if (z[i]<1/2): #newcomer picks 1st door\n",
    "                    newcomer[i] = doors[i][0]\n",
    "                if (1/2<z[i]<1): #newcomer picks 2nd door\n",
    "                    newcomer[i] = doors[i][1]     \n",
    "\n",
    "        if(doors[i][1]==0): #the car is not behind the 2nd door, so the host opens the remaining door with the goat\n",
    "\n",
    "            if(doors[i][0]==0): #the goat is behind the 1st door, so the host opens the 1st door\n",
    "                switcher[i] = doors[i][2] #switcher picks 3rd door\n",
    "\n",
    "                if (z[i]<1/2): #newcomer picks 2nd door\n",
    "                    newcomer[i] = doors[i][1]\n",
    "                if (1/2<z[i]<1): #newcomer picks 3rd door\n",
    "                    newcomer[i] = doors[i][2] \n",
    "\n",
    "            if(doors[i][0]==1): #the car is behind the 1st door, so the host opens the 3rd door\n",
    "                switcher[i] = doors[i][0] #switcher picks 1st door\n",
    "\n",
    "                if (z[i]<1/2): #newcomer picks 1st door\n",
    "                    newcomer[i] = doors[i][0]\n",
    "                if (1/2<z[i]<1): #newcomer picks 2nd door\n",
    "                    newcomer[i] = doors[i][1]\n",
    "\n",
    "    if (2/3<x[i]<=1): #chooses the 3rd door\n",
    "        conservative[i] = doors[i][2] #conservative keeps the door\n",
    "\n",
    "        if(doors[i][2]==1): #if the car is behind the 3rd door, the host opens randomly one of the other two\n",
    "\n",
    "            if (y[i]<1/2): #host opens 1st door\n",
    "                switcher[i] = doors[i][1] #switcher picks 2nd door\n",
    "\n",
    "                if (z[i]<1/2): #newcomer picks 2nd door\n",
    "                    newcomer[i] = doors[i][1]\n",
    "                if (1/2<z[i]<1): #newcomer picks 3rd door\n",
    "                    newcomer[i] = doors[i][2]\n",
    "\n",
    "            if (1/2<y[i]<1): #host opens 2nd door\n",
    "                switcher[i] = doors[i][0] #switcher picks 1st door\n",
    "        \n",
    "                if (z[i]<1/2): #newcomer picks 1st door\n",
    "                    newcomer[i] = doors[i][0]\n",
    "                if (1/2<z[i]<1): #newcomer picks 3rd door\n",
    "                    newcomer[i] = doors[i][2]     \n",
    "\n",
    "        if(doors[i][2]==0): #if the car is not behind the 3rd door, the host opens the remaining door with the goat\n",
    "\n",
    "            if(doors[i][0]==0): #the goat is behind the 1st door, so the host opens the 1st door\n",
    "                switcher[i] = doors[i][1] #switcher picks 2nd door\n",
    "\n",
    "                if (z[i]<1/2): #newcomer picks 2nd door\n",
    "                    newcomer[i] = doors[i][1]\n",
    "                if (1/2<z[i]<1): #newcomer picks 3rd door\n",
    "                    newcomer[i] = doors[i][2] \n",
    "\n",
    "            if(doors[i][0]==1): #the car is behind the 1st door, so the host opens the 2nd door\n",
    "                switcher[i] = doors[i][0] #switcher picks 1st door\n",
    "\n",
    "                if (z[i]<1/2): #newcomer picks 1st door\n",
    "                    newcomer[i] = doors[i][0]\n",
    "                if (1/2<z[i]<1): #newcomer picks 3rd door\n",
    "                    newcomer[i] = doors[i][2]\n",
    "\n",
    "print(conservative)\n",
    "print(switcher)\n",
    "print(newcomer)"
   ]
  },
  {
   "cell_type": "code",
   "execution_count": 101,
   "id": "8ac8f4bf-1daa-4331-bc6f-2c60740fd88e",
   "metadata": {},
   "outputs": [],
   "source": [
    "conservative_win=0\n",
    "switcher_win=0\n",
    "newcomer_win=0\n",
    "\n",
    "for i in range (0,N):\n",
    "    conservative_win+=conservative[i]\n",
    "    switcher_win+=switcher[i]\n",
    "    newcomer_win+=newcomer[i]\n",
    "\n",
    "conservative_win_freq=conservative_win/N\n",
    "switcher_win_freq=switcher_win/N\n",
    "newcomer_win_freq=newcomer_win/N\n",
    "\n",
    "conservative_loss_freq = (N-conservative_win)/N\n",
    "switcher_loss_freq = (N-switcher_win)/N\n",
    "newcomer_loss_freq = (N-newcomer_win)/N"
   ]
  },
  {
   "cell_type": "code",
   "execution_count": 102,
   "id": "e9fe6aa7-7a37-4052-a5dd-de7e02779bba",
   "metadata": {},
   "outputs": [
    {
     "data": {
      "image/png": "[encoded data removed]",
      "text/plain": [
       "<Figure size 640x480 with 1 Axes>"
      ]
     },
     "metadata": {},
     "output_type": "display_data"
    }
   ],
   "source": [
    "outcome=['goat', 'car']\n",
    "c_frequency=[conservative_loss_freq, conservative_win_freq]\n",
    "\n",
    "plt.bar(outcome, c_frequency)\n",
    "plt.title('Conservative')\n",
    "plt.xlabel('goat-car')\n",
    "plt.ylabel('frequency')\n",
    "plt.show()"
   ]
  },
  {
   "cell_type": "code",
   "execution_count": 103,
   "id": "028068da-7534-48af-ab2c-8864680cc830",
   "metadata": {},
   "outputs": [
    {
     "data": {
      "image/png": "[encoded data removed]",
      "text/plain": [
       "<Figure size 640x480 with 1 Axes>"
      ]
     },
     "metadata": {},
     "output_type": "display_data"
    }
   ],
   "source": [
    "s_frequency=[switcher_loss_freq, switcher_win_freq]\n",
    "\n",
    "plt.bar(outcome, s_frequency)\n",
    "plt.title('Switcher')\n",
    "plt.xlabel('goat-car')\n",
    "plt.ylabel('frequency')\n",
    "plt.show()"
   ]
  },
  {
   "cell_type": "code",
   "execution_count": 104,
   "id": "385ba70b-dfdb-4821-aa27-b9cb08484e4f",
   "metadata": {},
   "outputs": [
    {
     "data": {
      "image/png": "[encoded data removed]",
      "text/plain": [
       "<Figure size 640x480 with 1 Axes>"
      ]
     },
     "metadata": {},
     "output_type": "display_data"
    }
   ],
   "source": [
    "outcome=['goat', 'car']\n",
    "n_frequency=[newcomer_loss_freq, newcomer_win_freq]\n",
    "\n",
    "plt.bar(outcome, n_frequency)\n",
    "plt.title('Newcomer')\n",
    "plt.xlabel('goat-car')\n",
    "plt.ylabel('frequency')\n",
    "plt.show()"
   ]
  },
  {
   "cell_type": "code",
   "execution_count": null,
   "id": "a3f3ccf6-3fb4-4242-abcb-25a816f6ec91",
   "metadata": {},
   "outputs": [],
   "source": []
  }
 ],
 "metadata": {
  "kernelspec": {
   "display_name": "Python 3 (ipykernel)",
   "language": "python",
   "name": "python3"
  },
  "language_info": {
   "codemirror_mode": {
    "name": "ipython",
    "version": 3
   },
   "file_extension": ".py",
   "mimetype": "text/x-python",
   "name": "python",
   "nbconvert_exporter": "python",
   "pygments_lexer": "ipython3",
   "version": "3.11.7"
  }
 },
 "nbformat": 4,
 "nbformat_minor": 5
}
